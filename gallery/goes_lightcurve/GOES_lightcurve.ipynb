{
 "metadata": {
  "name": "",
  "signature": "sha256:fb51326c14797ff418ce6689dde58ac854c900c9e7e8e5d06bc74015697b519a",
  "sunpy-gallery": {
   "author": "Keith Hughitt <khughitt@umd.edu>",
   "date": "November 2013",
   "link_name": "GOES Light Curves",
   "published": true,
   "section_name": "Introductory"
  }
 },
 "nbformat": 3,
 "nbformat_minor": 0,
 "worksheets": [
  {
   "cells": [
    {
     "cell_type": "heading",
     "level": 1,
     "metadata": {},
     "source": [
      "Working with GOES LightCurves"
     ]
    },
    {
     "cell_type": "heading",
     "level": 2,
     "metadata": {},
     "source": [
      "Overview"
     ]
    },
    {
     "cell_type": "markdown",
     "metadata": {},
     "source": [
      "A basic example working with GOES light curves in SunPy. Below, we generate a lightcurve for the previous day and create a simple plot."
     ]
    },
    {
     "cell_type": "code",
     "collapsed": false,
     "input": [
      "%matplotlib inline\n",
      "\n",
      "from sunpy.lightcurve import GOESLightCurve\n",
      "goes = GOESLightCurve.from_yesterday()\n",
      "fig = goes.peek()"
     ],
     "language": "python",
     "metadata": {},
     "outputs": []
    },
    {
     "cell_type": "markdown",
     "metadata": {},
     "source": [
      "To see what time-range the data is for, we can use the `time_range` method."
     ]
    },
    {
     "cell_type": "code",
     "collapsed": false,
     "input": [
      "goes.time_range()"
     ],
     "language": "python",
     "metadata": {},
     "outputs": []
    },
    {
     "cell_type": "markdown",
     "metadata": {},
     "source": [
      "The underlying data is stored as a [pandas DataFrame](http://pandas.pydata.org/pandas-docs/dev/dsintro.html) object."
     ]
    },
    {
     "cell_type": "code",
     "collapsed": false,
     "input": [
      "goes.data"
     ],
     "language": "python",
     "metadata": {},
     "outputs": []
    }
   ],
   "metadata": {}
  }
 ]
}