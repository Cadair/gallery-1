{
 "metadata": {
  "name": "",
  "signature": "sha256:260627d05e24683f5871810613cccf02dc542fac12857a3a5452201234ea05df",
  "sunpy-gallery": {
   "author": "Steven Christe",
   "date": "June 2014",
   "link_name": "SunPy Overview",
   "published": true,
   "section_name": "Introductory"
  }
 },
 "nbformat": 3,
 "nbformat_minor": 0,
 "worksheets": [
  {
   "cells": [
    {
     "cell_type": "markdown",
     "metadata": {},
     "source": [
      "<img src=\"https://raw.github.com/sunpy/sunpy-logo/master/generated/sunpy_logo_compact_192x239.png\">\n",
      "# SunPy Overview\n",
      "Email: steven.christe@nasa.gov"
     ]
    },
    {
     "cell_type": "markdown",
     "metadata": {},
     "source": [
      "This presentation was first shown at the [13th RHESSI Workshop](http://sprg.ssl.berkeley.edu/~solarsdy/rhessi13/)"
     ]
    },
    {
     "cell_type": "markdown",
     "metadata": {},
     "source": [
      "## What is SunPy?\n",
      "### A community-developed, free and open-source solar data analysis environment for Python."
     ]
    },
    {
     "cell_type": "markdown",
     "metadata": {},
     "source": [
      "website: [http://www.sunpy.org](http://www.sunpy.org)<br>\n",
      "docs: [http://docs.sunpy.org](http://docs.sunpy.org)<br>\n",
      "code (version control!): [https://github.com/sunpy/sunpy](https://github.com/sunpy/sunpy)"
     ]
    },
    {
     "cell_type": "markdown",
     "metadata": {},
     "source": [
      "SunPy is built upon foundational libraries which enable scientific computing in Python which includes\n",
      "\n",
      "+ [NumPy](http://numpy.org)\n",
      "+ [SciPy](http://scipy.org)\n",
      "+ [matplotlib](http://matplotlib.org)\n",
      "\n",
      "and also (increasingly)\n",
      "\n",
      "+ [Astropy](http://astropy.org)"
     ]
    },
    {
     "cell_type": "markdown",
     "metadata": {},
     "source": [
      "Setting up the notebook for inline plots"
     ]
    },
    {
     "cell_type": "code",
     "collapsed": false,
     "input": [
      "%matplotlib inline"
     ],
     "language": "python",
     "metadata": {},
     "outputs": []
    },
    {
     "cell_type": "code",
     "collapsed": false,
     "input": [
      "import numpy as np"
     ],
     "language": "python",
     "metadata": {},
     "outputs": []
    },
    {
     "cell_type": "code",
     "collapsed": false,
     "input": [
      "import matplotlib.pyplot as plt"
     ],
     "language": "python",
     "metadata": {},
     "outputs": []
    },
    {
     "cell_type": "code",
     "collapsed": false,
     "input": [
      "import sunpy"
     ],
     "language": "python",
     "metadata": {},
     "outputs": []
    },
    {
     "cell_type": "code",
     "collapsed": false,
     "input": [
      "sunpy.system_info()"
     ],
     "language": "python",
     "metadata": {},
     "outputs": []
    },
    {
     "cell_type": "markdown",
     "metadata": {},
     "source": [
      "#1. Solar Images in SunPy"
     ]
    },
    {
     "cell_type": "markdown",
     "metadata": {},
     "source": [
      "SunPy has a `Map` type that supports 2D images, it makes it simple to read data in from any filetype supported in `sunpy.io` which is currently FITS, JPEG2000 and ANA files. You can also create maps from any `(data, metadata)` pair.\n",
      "\n",
      "SunPy contains a few test data files, under the `sunpy` namespace:\n",
      "\n",
      "* `sunpy.AIA_171_IMAGE`\n",
      "* `sunpy.CALLISTO_IMAGE`\n",
      "* `sunpy.EIT_195_IMAGE`\n",
      "* `sunpy.RHESSI_EVENT_LIST`\n",
      "* `sunpy.RHESSI_IMAGE`\n",
      "\n",
      "These are all just links to FITS files contained in the SunPy distribution."
     ]
    },
    {
     "cell_type": "code",
     "collapsed": false,
     "input": [
      "print sunpy.AIA_171_IMAGE"
     ],
     "language": "python",
     "metadata": {},
     "outputs": []
    },
    {
     "cell_type": "code",
     "collapsed": false,
     "input": [
      "import sunpy.map\n",
      "\n",
      "aiamap = sunpy.map.Map(sunpy.AIA_171_IMAGE)\n",
      "aiamap"
     ],
     "language": "python",
     "metadata": {},
     "outputs": []
    },
    {
     "cell_type": "markdown",
     "metadata": {},
     "source": [
      "Maps contain both the image data and the metadata associated with the image, this metadata currently does not deviate much from the standard FITS WCS keywords, but presented in a instrument-independant manner.\n",
      "\n",
      "[Documentation on the Map Object](http://docs.sunpy.org/en/stable/api/sunpy.map.mapbase.GenericMap.html#sunpy.map.mapbase.GenericMap)"
     ]
    },
    {
     "cell_type": "markdown",
     "metadata": {},
     "source": [
      "The data (stored in a numpy array)"
     ]
    },
    {
     "cell_type": "code",
     "collapsed": false,
     "input": [
      "aiamap.data"
     ],
     "language": "python",
     "metadata": {},
     "outputs": []
    },
    {
     "cell_type": "code",
     "collapsed": false,
     "input": [
      "aiamap.data.max()"
     ],
     "language": "python",
     "metadata": {},
     "outputs": []
    },
    {
     "cell_type": "markdown",
     "metadata": {},
     "source": [
      "The standard deviation"
     ]
    },
    {
     "cell_type": "code",
     "collapsed": false,
     "input": [
      "aiamap.data.std()"
     ],
     "language": "python",
     "metadata": {},
     "outputs": []
    },
    {
     "cell_type": "code",
     "collapsed": false,
     "input": [
      "aiamap.data.min()"
     ],
     "language": "python",
     "metadata": {},
     "outputs": []
    },
    {
     "cell_type": "markdown",
     "metadata": {},
     "source": [
      "The original metadata (stored in a dictionary)"
     ]
    },
    {
     "cell_type": "code",
     "collapsed": false,
     "input": [
      "aiamap.meta"
     ],
     "language": "python",
     "metadata": {},
     "outputs": []
    },
    {
     "cell_type": "code",
     "collapsed": false,
     "input": [
      "aiamap.meta.keys()"
     ],
     "language": "python",
     "metadata": {},
     "outputs": []
    },
    {
     "cell_type": "code",
     "collapsed": false,
     "input": [
      "aiamap.meta.get('rsun_obs')"
     ],
     "language": "python",
     "metadata": {},
     "outputs": []
    },
    {
     "cell_type": "markdown",
     "metadata": {},
     "source": [
      "We also provide quick access to some key metadata values as object variables"
     ]
    },
    {
     "cell_type": "code",
     "collapsed": false,
     "input": [
      "print(aiamap.date, aiamap.coordinate_system, aiamap.detector, aiamap.dsun)"
     ],
     "language": "python",
     "metadata": {},
     "outputs": []
    },
    {
     "cell_type": "markdown",
     "metadata": {},
     "source": [
      "The properties of the map provide a standard way of reading meta data. For instance the pixel scale can be accessed with the `.scale` attribute:"
     ]
    },
    {
     "cell_type": "code",
     "collapsed": false,
     "input": [
      "aiamap.scale"
     ],
     "language": "python",
     "metadata": {},
     "outputs": []
    },
    {
     "cell_type": "code",
     "collapsed": false,
     "input": [
      "aiamap.yrange"
     ],
     "language": "python",
     "metadata": {},
     "outputs": []
    },
    {
     "cell_type": "code",
     "collapsed": false,
     "input": [
      "aiamap.xrange"
     ],
     "language": "python",
     "metadata": {},
     "outputs": []
    },
    {
     "cell_type": "markdown",
     "metadata": {},
     "source": [
      "Map provides some useful functions such as \n",
      "\n",
      "+ submap\n",
      "+ plotting\n",
      "+ resampling"
     ]
    },
    {
     "cell_type": "markdown",
     "metadata": {},
     "source": [
      "##Playing with a map"
     ]
    },
    {
     "cell_type": "code",
     "collapsed": false,
     "input": [
      "aiasub = aiamap.submap([-250,50],[-550,-250])"
     ],
     "language": "python",
     "metadata": {},
     "outputs": []
    },
    {
     "cell_type": "code",
     "collapsed": false,
     "input": [
      "aiasub.xrange, aiasub.yrange"
     ],
     "language": "python",
     "metadata": {},
     "outputs": []
    },
    {
     "cell_type": "code",
     "collapsed": false,
     "input": [
      "fig, ax = plt.subplots(1, figsize=(7,7))\n",
      "im = aiasub.plot(axes=ax, vmin=100, vmax=aiasub.data.max())\n",
      "ax = aiasub.draw_grid(grid_spacing=5)\n",
      "cbar = plt.colorbar()"
     ],
     "language": "python",
     "metadata": {},
     "outputs": []
    },
    {
     "cell_type": "markdown",
     "metadata": {},
     "source": [
      "## Composite Maps\n",
      "Composite maps inherits from genericMap and can handle multiple maps and lets you plot them together."
     ]
    },
    {
     "cell_type": "code",
     "collapsed": false,
     "input": [
      "compmap = sunpy.map.Map(sunpy.AIA_171_IMAGE, sunpy.RHESSI_IMAGE, composite=True)"
     ],
     "language": "python",
     "metadata": {},
     "outputs": []
    },
    {
     "cell_type": "code",
     "collapsed": false,
     "input": [
      "levels = np.arange(0,50,5)\n",
      "print(levels)\n",
      "compmap.set_levels(1, levels, percent=True)\n",
      "compmap.set_alpha(1,0.5)\n",
      "compmap.set_colors(1, 'Reds_r')"
     ],
     "language": "python",
     "metadata": {},
     "outputs": []
    },
    {
     "cell_type": "code",
     "collapsed": false,
     "input": [
      "ax = plt.subplot()\n",
      "compmap.plot()\n",
      "ax.axis([200, 600, -600, -200])\n",
      "plt.show()"
     ],
     "language": "python",
     "metadata": {},
     "outputs": []
    },
    {
     "cell_type": "markdown",
     "metadata": {},
     "source": [
      "## Spectrograms"
     ]
    },
    {
     "cell_type": "code",
     "collapsed": false,
     "input": [
      "from sunpy.spectra.sources.callisto import CallistoSpectrogram\n",
      "tstart, tend = \"2011-06-07T06:00:00\", \"2011-06-07T07:45:00\"\n",
      "callisto = CallistoSpectrogram.from_range(\"BIR\", tstart, tend)"
     ],
     "language": "python",
     "metadata": {},
     "outputs": []
    },
    {
     "cell_type": "code",
     "collapsed": false,
     "input": [
      "callisto.peek(vmin = 0)"
     ],
     "language": "python",
     "metadata": {},
     "outputs": []
    },
    {
     "cell_type": "code",
     "collapsed": false,
     "input": [
      "callisto_nobg = callisto.subtract_bg()"
     ],
     "language": "python",
     "metadata": {},
     "outputs": []
    },
    {
     "cell_type": "code",
     "collapsed": false,
     "input": [
      "callisto_nobg.peek(vmin = 0)"
     ],
     "language": "python",
     "metadata": {},
     "outputs": []
    },
    {
     "cell_type": "code",
     "collapsed": false,
     "input": [
      "callisto_nobg.peek(vmin = 0, vmax = 40)"
     ],
     "language": "python",
     "metadata": {},
     "outputs": []
    },
    {
     "cell_type": "code",
     "collapsed": false,
     "input": [
      "callisto.data"
     ],
     "language": "python",
     "metadata": {},
     "outputs": []
    },
    {
     "cell_type": "markdown",
     "metadata": {},
     "source": [
      "## Lightcurves"
     ]
    },
    {
     "cell_type": "code",
     "collapsed": false,
     "input": [
      "import sunpy.lightcurve\n",
      "evelc = sunpy.lightcurve.EVELightCurve.create('2014/01/01')"
     ],
     "language": "python",
     "metadata": {},
     "outputs": []
    },
    {
     "cell_type": "code",
     "collapsed": false,
     "input": [
      "evelc.data"
     ],
     "language": "python",
     "metadata": {},
     "outputs": []
    },
    {
     "cell_type": "code",
     "collapsed": false,
     "input": [
      "fig = plt.figure()\n",
      "ax = evelc.data['XRS-B proxy'].plot()\n",
      "plt.show()"
     ],
     "language": "python",
     "metadata": {},
     "outputs": []
    },
    {
     "cell_type": "code",
     "collapsed": false,
     "input": [
      "ax = evelc.data['17.1ESP'].plot()"
     ],
     "language": "python",
     "metadata": {},
     "outputs": []
    },
    {
     "cell_type": "markdown",
     "metadata": {},
     "source": [
      "We can see that the missing data in this file hasn't been properly removed. (This is probably a bug in `EVELightCurve`). We can check the header:"
     ]
    },
    {
     "cell_type": "code",
     "collapsed": false,
     "input": [
      "evelc.meta"
     ],
     "language": "python",
     "metadata": {},
     "outputs": []
    },
    {
     "cell_type": "code",
     "collapsed": false,
     "input": [
      "from pandas import isnull\n",
      "evelc.data['17.1ESP'][evelc.data['17.1ESP'] == -1]"
     ],
     "language": "python",
     "metadata": {},
     "outputs": []
    },
    {
     "cell_type": "code",
     "collapsed": false,
     "input": [
      "evelc.data['17.1ESP'][evelc.data['17.1ESP'] == -1] = np.nan"
     ],
     "language": "python",
     "metadata": {},
     "outputs": []
    },
    {
     "cell_type": "code",
     "collapsed": false,
     "input": [
      "evelc.data.replace(-1, np.nan)"
     ],
     "language": "python",
     "metadata": {},
     "outputs": []
    },
    {
     "cell_type": "code",
     "collapsed": false,
     "input": [
      "evelc.data['17.1ESP'][evelc.data['17.1ESP'] == -1]"
     ],
     "language": "python",
     "metadata": {},
     "outputs": []
    },
    {
     "cell_type": "code",
     "collapsed": false,
     "input": [
      "import pandas as pd\n",
      "pd.__version__"
     ],
     "language": "python",
     "metadata": {},
     "outputs": []
    },
    {
     "cell_type": "code",
     "collapsed": false,
     "input": [
      "ax = evelc.data['17.1ESP'].plot()"
     ],
     "language": "python",
     "metadata": {},
     "outputs": []
    },
    {
     "cell_type": "markdown",
     "metadata": {},
     "source": [
      "## Solar Constants"
     ]
    },
    {
     "cell_type": "code",
     "collapsed": false,
     "input": [
      "from sunpy.sun import constants as sun"
     ],
     "language": "python",
     "metadata": {},
     "outputs": []
    },
    {
     "cell_type": "code",
     "collapsed": false,
     "input": [
      "sun.mass"
     ],
     "language": "python",
     "metadata": {},
     "outputs": []
    },
    {
     "cell_type": "code",
     "collapsed": false,
     "input": [
      "type(sun.mass)"
     ],
     "language": "python",
     "metadata": {},
     "outputs": []
    },
    {
     "cell_type": "code",
     "collapsed": false,
     "input": [
      "print(sun.mass)"
     ],
     "language": "python",
     "metadata": {},
     "outputs": []
    },
    {
     "cell_type": "code",
     "collapsed": false,
     "input": [
      "(sun.mass/sun.volume).cgs"
     ],
     "language": "python",
     "metadata": {},
     "outputs": []
    },
    {
     "cell_type": "code",
     "collapsed": false,
     "input": [
      "sun.find('age')"
     ],
     "language": "python",
     "metadata": {},
     "outputs": []
    },
    {
     "cell_type": "code",
     "collapsed": false,
     "input": [
      "sun.value('age'), sun.unit('age')"
     ],
     "language": "python",
     "metadata": {},
     "outputs": []
    },
    {
     "cell_type": "markdown",
     "metadata": {},
     "source": [
      "## Searching the VSO"
     ]
    },
    {
     "cell_type": "code",
     "collapsed": false,
     "input": [
      "from sunpy.net import vso\n",
      "client = vso.VSOClient()\n",
      "tstart, tend = '2011/6/7 05:30', '2011/6/7 6:30'"
     ],
     "language": "python",
     "metadata": {},
     "outputs": []
    },
    {
     "cell_type": "code",
     "collapsed": false,
     "input": [
      "lasco_query = client.query(vso.attrs.Time(tstart, tend), vso.attrs.Instrument('lasco'))"
     ],
     "language": "python",
     "metadata": {},
     "outputs": []
    },
    {
     "cell_type": "code",
     "collapsed": false,
     "input": [
      "lasco_query.num_records()"
     ],
     "language": "python",
     "metadata": {},
     "outputs": []
    },
    {
     "cell_type": "code",
     "collapsed": false,
     "input": [
      "lasco_query.show()"
     ],
     "language": "python",
     "metadata": {},
     "outputs": []
    },
    {
     "cell_type": "markdown",
     "metadata": {},
     "source": [
      "now download the data"
     ]
    },
    {
     "cell_type": "code",
     "collapsed": false,
     "input": [
      "pathformat = '/Users/schriste/sunpy/data/{file}.fits'\n",
      "results = client.get(lasco_query, path = pathformat)"
     ],
     "language": "python",
     "metadata": {},
     "outputs": []
    },
    {
     "cell_type": "code",
     "collapsed": false,
     "input": [
      "instrument_condition = ( vso.attrs.Instrument('lasco') | vso.attrs.Detector('cor1') )\n",
      "coronagraphs = client.query(vso.attrs.Time(tstart, tend), instrument_condition)\n",
      "coronagraphs.num_records()"
     ],
     "language": "python",
     "metadata": {},
     "outputs": []
    },
    {
     "cell_type": "code",
     "collapsed": false,
     "input": [
      "coronagraphs.show()"
     ],
     "language": "python",
     "metadata": {},
     "outputs": []
    },
    {
     "cell_type": "markdown",
     "metadata": {},
     "source": [
      "## Searching for events in the HEK"
     ]
    },
    {
     "cell_type": "code",
     "collapsed": false,
     "input": [
      "from sunpy.net import hek\n",
      "client = hek.HEKClient()\n",
      "tstart, tend = '2011/08/09 00:00:00', '2011/08/10 00:00:00'\n",
      "result = client.query(hek.attrs.Time(tstart,tend), hek.attrs.EventType('FL')) # \u2019FL\u2019 indicates flare\n",
      "len(result)"
     ],
     "language": "python",
     "metadata": {},
     "outputs": []
    },
    {
     "cell_type": "code",
     "collapsed": false,
     "input": [
      "result"
     ],
     "language": "python",
     "metadata": {},
     "outputs": []
    },
    {
     "cell_type": "markdown",
     "metadata": {},
     "source": [
      "Filter the results of the previous result to return only those events that have the FRM \u2018SSW Latest Events\u2019"
     ]
    },
    {
     "cell_type": "code",
     "collapsed": false,
     "input": [
      "result = client.query(hek.attrs.Time(tstart, tend), hek.attrs.EventType('FL'), hek.attrs.FRM.Name=='SSW Latest Events')"
     ],
     "language": "python",
     "metadata": {},
     "outputs": []
    },
    {
     "cell_type": "code",
     "collapsed": false,
     "input": [
      "len(result)"
     ],
     "language": "python",
     "metadata": {},
     "outputs": []
    },
    {
     "cell_type": "markdown",
     "metadata": {},
     "source": [
      "The following returns flares west of 50 arcseconds or those that have a peak flux above 1000.0 (the units of the flux are FRM- dependent and are described at the HEK website)"
     ]
    },
    {
     "cell_type": "code",
     "collapsed": false,
     "input": [
      "result = client.query(hek.attrs.Time(tstart, tend), hek.attrs.EventType('FL'), (hek.attrs.Event.Coord1>50) or (hek.attrs.FL.PeakFlux>1000.0))"
     ],
     "language": "python",
     "metadata": {},
     "outputs": []
    },
    {
     "cell_type": "code",
     "collapsed": false,
     "input": [
      "len(result)"
     ],
     "language": "python",
     "metadata": {},
     "outputs": []
    },
    {
     "cell_type": "markdown",
     "metadata": {},
     "source": [
      "## Downloading the VSO files associated with events"
     ]
    },
    {
     "cell_type": "code",
     "collapsed": false,
     "input": [
      "from sunpy.net import hek2vso"
     ],
     "language": "python",
     "metadata": {},
     "outputs": []
    },
    {
     "cell_type": "code",
     "collapsed": false,
     "input": [
      "h2v = hek2vso.H2VClient()"
     ],
     "language": "python",
     "metadata": {},
     "outputs": []
    },
    {
     "cell_type": "code",
     "collapsed": false,
     "input": [
      "vso_results = h2v.translate_and_query(result[0])"
     ],
     "language": "python",
     "metadata": {},
     "outputs": []
    },
    {
     "cell_type": "code",
     "collapsed": false,
     "input": [
      "h2v.vso_client.get(vso_results[0]).wait()"
     ],
     "language": "python",
     "metadata": {},
     "outputs": []
    },
    {
     "cell_type": "markdown",
     "metadata": {},
     "source": [
      "## WCS"
     ]
    },
    {
     "cell_type": "code",
     "collapsed": false,
     "input": [
      "from sunpy import wcs"
     ],
     "language": "python",
     "metadata": {},
     "outputs": []
    },
    {
     "cell_type": "code",
     "collapsed": false,
     "input": [
      "wcs.convert_hg_hpc(10, 53)"
     ],
     "language": "python",
     "metadata": {},
     "outputs": []
    },
    {
     "cell_type": "markdown",
     "metadata": {},
     "source": [
      "Convert that position back to heliographic coordinates"
     ]
    },
    {
     "cell_type": "code",
     "collapsed": false,
     "input": [
      "wcs.convert_hpc_hg(100.49, 767.97)"
     ],
     "language": "python",
     "metadata": {},
     "outputs": []
    },
    {
     "cell_type": "markdown",
     "metadata": {},
     "source": [
      "Try to convert a position which is not on the Sun to HG"
     ]
    },
    {
     "cell_type": "code",
     "collapsed": false,
     "input": [
      "wcs.convert_hpc_hg(-1500, 0)"
     ],
     "language": "python",
     "metadata": {},
     "outputs": []
    },
    {
     "cell_type": "markdown",
     "metadata": {},
     "source": [
      "Convert sky coordinate to a position in HCC"
     ]
    },
    {
     "cell_type": "code",
     "collapsed": false,
     "input": [
      "wcs.convert_hpc_hcc(-300, 400, z=True)"
     ],
     "language": "python",
     "metadata": {},
     "outputs": []
    },
    {
     "cell_type": "markdown",
     "metadata": {},
     "source": [
      "## More References\n",
      "\n",
      "+ [Python for Data Analysis](http://shop.oreilly.com/product/0636920023784.do) by Wes McKinney is great\n",
      "+ [Lectures on scientific computing with Python](http://jrjohansson.github.io) Great lectures on scientific computing in Python"
     ]
    }
   ],
   "metadata": {}
  }
 ]
}
