{
 "metadata": {
  "name": "",
  "signature": "sha256:f32d0f5a65993374bc9b8573a57ddec3a57e493e9cc9f2ece0bbdb82176598e1",
  "sunpy-gallery": {
   "author": "Andrew Inglis <andrew.inglis@nasa.gov>",
   "date": "June 2014",
   "link_name": "Lightcurve tutorial",
   "published": true,
   "section_name": "Lightcurve"
  }
 },
 "nbformat": 3,
 "nbformat_minor": 0,
 "worksheets": [
  {
   "cells": [
    {
     "cell_type": "heading",
     "level": 1,
     "metadata": {},
     "source": [
      "Lightcurve Tutorial"
     ]
    },
    {
     "cell_type": "raw",
     "metadata": {},
     "source": [
      "SunPy currently supports the creating of time series, or lightcurves, from a number of data sources, including GOES, SDO/EVE, Proba-2/LYRA, the Nobeyama Radioheliograph (NoRH), and RHESSI. Here we demonstrate how lightcurves may be created and used in solar analysis."
     ]
    },
    {
     "cell_type": "code",
     "collapsed": false,
     "input": [
      "import sunpy\n",
      "from sunpy import lightcurve"
     ],
     "language": "python",
     "metadata": {},
     "outputs": []
    },
    {
     "cell_type": "code",
     "collapsed": false,
     "input": [
      "import matplotlib.pyplot as plt\n",
      "#the next line just makes matplotlib plots appear inline instead of in separate windows\n",
      "%pylab inline"
     ],
     "language": "python",
     "metadata": {},
     "outputs": []
    },
    {
     "cell_type": "heading",
     "level": 1,
     "metadata": {},
     "source": [
      "Example: The 2011 June 7 solar flare"
     ]
    },
    {
     "cell_type": "raw",
     "metadata": {},
     "source": [
      "Let's create some lightcurves for the solar flare of 2011 June 7."
     ]
    },
    {
     "cell_type": "heading",
     "level": 3,
     "metadata": {},
     "source": [
      "Creating the lightcurves"
     ]
    },
    {
     "cell_type": "code",
     "collapsed": false,
     "input": [
      "goes_lightcurve = lightcurve.GOESLightCurve.create('2011-06-07 06:00','2011-06-07 08:00')\n",
      "hsi_lightcurve = lightcurve.RHESSISummaryLightCurve.create('2011-06-07 06:00','2011-06-07 08:00')"
     ],
     "language": "python",
     "metadata": {},
     "outputs": []
    },
    {
     "cell_type": "code",
     "collapsed": false,
     "input": [
      "lyra_lightcurve_fullday = lightcurve.LYRALightCurve.create('2011-06-07')"
     ],
     "language": "python",
     "metadata": {},
     "outputs": []
    },
    {
     "cell_type": "raw",
     "metadata": {},
     "source": [
      "At present, some data sources allow queries by time range (like GOES), but some others only allow queries by date (like LYRA), generating a full-day lightcurve. However, we can easily trim the lightcurve to the desired range using the truncate command:"
     ]
    },
    {
     "cell_type": "code",
     "collapsed": false,
     "input": [
      "lyra_lightcurve = lyra_lightcurve_fullday.truncate('2011-06-07 06:00','2011-06-07 08:00')"
     ],
     "language": "python",
     "metadata": {},
     "outputs": []
    },
    {
     "cell_type": "heading",
     "level": 3,
     "metadata": {},
     "source": [
      "Making quicklook plots"
     ]
    },
    {
     "cell_type": "raw",
     "metadata": {},
     "source": [
      "Now let's plot the GOES and LYRA lightcurves using their quicklook plot commands:"
     ]
    },
    {
     "cell_type": "code",
     "collapsed": false,
     "input": [
      "#the peek() command makes a quicklook plot of the lightcurve with some default parameters\n",
      "goes_lightcurve.peek()\n",
      "lyra_lightcurve.peek()"
     ],
     "language": "python",
     "metadata": {},
     "outputs": []
    },
    {
     "cell_type": "heading",
     "level": 3,
     "metadata": {},
     "source": [
      "Accessing and using the data"
     ]
    },
    {
     "cell_type": "raw",
     "metadata": {},
     "source": [
      "More custom plots can be made easily by accessing the data in the lightcurve object. Both the time information and the data are contained within the lightcurve.data object, which is a pandas dataframe.\n",
      "\n",
      "We can see what data is contained in the dataframe by finding which keys it contains:"
     ]
    },
    {
     "cell_type": "code",
     "collapsed": false,
     "input": [
      "print lyra_lightcurve.data.keys()"
     ],
     "language": "python",
     "metadata": {},
     "outputs": []
    },
    {
     "cell_type": "raw",
     "metadata": {},
     "source": [
      "The metadata (or header information) for the lightcurve is held in a python dictionary format. We can access the metadata like this:"
     ]
    },
    {
     "cell_type": "code",
     "collapsed": false,
     "input": [
      "print lyra_lightcurve.meta"
     ],
     "language": "python",
     "metadata": {},
     "outputs": []
    },
    {
     "cell_type": "raw",
     "metadata": {},
     "source": [
      "Now let's make a custom plot of the Aluminium (channel 3) and Zirconium (channel 4) filter data from LYRA."
     ]
    },
    {
     "cell_type": "code",
     "collapsed": false,
     "input": [
      "plt.figure(1,figsize=(10,5))\n",
      "plt.plot(lyra_lightcurve.data.index,lyra_lightcurve.data['CHANNEL3'],color='blue',label='Al filter')\n",
      "plt.plot(lyra_lightcurve.data.index,lyra_lightcurve.data['CHANNEL4'],color='red',label='Zr filter')\n",
      "plt.ylim([0.0005,0.0055])\n",
      "plt.ylabel('Flux (Wm^-2)')\n",
      "plt.legend()\n",
      "plt.show()"
     ],
     "language": "python",
     "metadata": {},
     "outputs": []
    },
    {
     "cell_type": "heading",
     "level": 3,
     "metadata": {},
     "source": [
      "Analysing lightcurve data"
     ]
    },
    {
     "cell_type": "raw",
     "metadata": {},
     "source": [
      "Let's see how well the LYRA lightcurves correlate with each other. For this, we need to use functions in numpy."
     ]
    },
    {
     "cell_type": "code",
     "collapsed": false,
     "input": [
      "import numpy as np"
     ],
     "language": "python",
     "metadata": {},
     "outputs": []
    },
    {
     "cell_type": "code",
     "collapsed": false,
     "input": [
      "cross_correlation = np.correlate(lyra_lightcurve.data['CHANNEL3'],lyra_lightcurve.data['CHANNEL4'])\n",
      "print cross_correlation"
     ],
     "language": "python",
     "metadata": {},
     "outputs": []
    },
    {
     "cell_type": "raw",
     "metadata": {},
     "source": [
      "We can find the point in time of maximum emission for each channel, and compare it with the maximum in the GOES long (1-8A) and short (0.5-4A) channel emission."
     ]
    },
    {
     "cell_type": "code",
     "collapsed": false,
     "input": [
      "timeofmax_goes_long = goes_lightcurve.data['xrsb'].idxmax()\n",
      "timeofmax_goes_short = goes_lightcurve.data['xrsa'].idxmax()\n",
      "timeofmax_lyra_al = lyra_lightcurve.data['CHANNEL3'].idxmax()\n",
      "timeofmax_lyra_zr = lyra_lightcurve.data['CHANNEL4'].idxmax()\n",
      "print 'GOES long: ', timeofmax_goes_long\n",
      "print 'GOES short: ', timeofmax_goes_short\n",
      "print 'LYRA Al: ', timeofmax_lyra_al\n",
      "print 'LYRA Zr: ', timeofmax_lyra_zr"
     ],
     "language": "python",
     "metadata": {},
     "outputs": []
    },
    {
     "cell_type": "raw",
     "metadata": {},
     "source": [
      "We can see that the GOES short channel peaks first at 06:39:00, followed by the GOES long channel at 06:41:24, while the LYRA emission peaks later at around 06:44:45. We could add this information to our plot like this:"
     ]
    },
    {
     "cell_type": "code",
     "collapsed": false,
     "input": [
      "plt.figure(2,figsize=(10,5))\n",
      "plt.plot(lyra_lightcurve.data.index,lyra_lightcurve.data['CHANNEL3'],color='blue',label='Al filter')\n",
      "plt.plot(lyra_lightcurve.data.index,lyra_lightcurve.data['CHANNEL4'],color='red',label='Zr filter')\n",
      "plt.ylim([0.0005,0.0055])\n",
      "plt.ylabel('Flux (Wm^-2)')\n",
      "\n",
      "plt.axvline(timeofmax_lyra_al,color='blue',linestyle='dashed',linewidth=2)\n",
      "plt.axvline(timeofmax_lyra_zr,color='red',linestyle='dashed')\n",
      "plt.axvline(timeofmax_goes_long,color='green',linestyle='dashed',linewidth=2)\n",
      "plt.figtext(0.35,0.7,'GOES',color='green')\n",
      "\n",
      "plt.legend()\n",
      "plt.show()"
     ],
     "language": "python",
     "metadata": {},
     "outputs": []
    },
    {
     "cell_type": "raw",
     "metadata": {},
     "source": [
      "We can see this more easily by making a multi-panel plot that includes the GOES and RHESSI data."
     ]
    },
    {
     "cell_type": "code",
     "collapsed": false,
     "input": [
      "plt.figure(3,figsize=(12,8))\n",
      "#first subplot - let's plot the GOES data\n",
      "plt.subplot(3,1,1)\n",
      "plt.plot(goes_lightcurve.data.index,goes_lightcurve.data['xrsa'],color='black',label='GOES short')\n",
      "plt.plot(goes_lightcurve.data.index,goes_lightcurve.data['xrsb'],color='green',label='GOES long')\n",
      "plt.ylabel('GOES X-ray Flux')\n",
      "plt.legend()\n",
      "\n",
      "#add the vertical lines\n",
      "plt.axvline(timeofmax_lyra_al,color='blue',linestyle='dashed',linewidth=2)\n",
      "plt.axvline(timeofmax_lyra_zr,color='red',linestyle='dashed')\n",
      "plt.axvline(timeofmax_goes_long,color='green',linestyle='dashed',linewidth=2)\n",
      "\n",
      "#second subplot - plot the LYRA data again\n",
      "plt.subplot(3,1,2)\n",
      "plt.plot(lyra_lightcurve.data.index,lyra_lightcurve.data['CHANNEL3'],color='blue',label='Al filter')\n",
      "plt.plot(lyra_lightcurve.data.index,lyra_lightcurve.data['CHANNEL4'],color='red',label='Zr filter')\n",
      "plt.ylim([0.0005,0.0055])\n",
      "plt.ylabel('Flux (Wm^-2)')\n",
      "plt.legend()\n",
      "\n",
      "#add the vertical lines\n",
      "plt.axvline(timeofmax_lyra_al,color='blue',linestyle='dashed',linewidth=2)\n",
      "plt.axvline(timeofmax_lyra_zr,color='red',linestyle='dashed')\n",
      "plt.axvline(timeofmax_goes_long,color='green',linestyle='dashed',linewidth=2)\n",
      "\n",
      "#third subplot - plot the RHESSI summary data in select channels\n",
      "plt.subplot(3,1,3)\n",
      "plt.plot(hsi_lightcurve.data.index,hsi_lightcurve.data['12 - 25 keV'],color='cyan',label='12-25 keV')\n",
      "plt.plot(hsi_lightcurve.data.index,hsi_lightcurve.data['25 - 50 keV'],color='purple',label='25-50 keV')\n",
      "plt.ylabel('RHESSI summary counts')\n",
      "plt.legend()\n",
      "\n",
      "#add the vertical lines\n",
      "plt.axvline(timeofmax_lyra_al,color='blue',linestyle='dashed',linewidth=2)\n",
      "plt.axvline(timeofmax_lyra_zr,color='red',linestyle='dashed')\n",
      "plt.axvline(timeofmax_goes_long,color='green',linestyle='dashed',linewidth=2)\n",
      "\n",
      "plt.show()"
     ],
     "language": "python",
     "metadata": {},
     "outputs": []
    },
    {
     "cell_type": "raw",
     "metadata": {},
     "source": [
      "We can see that the RHESSI summary data includes the effects of attenuator state changes."
     ]
    }
   ],
   "metadata": {}
  }
 ]
}